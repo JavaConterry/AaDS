{
 "cells": [
  {
   "cell_type": "code",
   "execution_count": 1,
   "id": "d751856e-6e3d-4e9a-b65d-1e9af8d3660b",
   "metadata": {},
   "outputs": [],
   "source": [
    "from stack import *\n",
    "from tqueue import *"
   ]
  },
  {
   "cell_type": "markdown",
   "id": "480d5e7d-404c-4a53-9176-7990347681cf",
   "metadata": {},
   "source": [
    "## Using stack implemented with Linked List"
   ]
  },
  {
   "cell_type": "code",
   "execution_count": 2,
   "id": "fa0e9a73-15f5-4547-9bb4-3dabe25792a3",
   "metadata": {},
   "outputs": [
    {
     "name": "stdout",
     "output_type": "stream",
     "text": [
      "1 2 33\n",
      "last 33 prelast 2\n",
      "1\n"
     ]
    }
   ],
   "source": [
    "stack_list = Stack_List()\n",
    "stack_list.add(1)\n",
    "stack_list.add(\"2\")\n",
    "stack_list.add(33)\n",
    "print(stack_list)\n",
    "\n",
    "last = stack_list.get()\n",
    "prelast = stack_list.get()\n",
    "print('last', last, 'prelast', prelast)\n",
    "print(stack_list)"
   ]
  },
  {
   "cell_type": "markdown",
   "id": "971ad087-59e9-4c0c-8484-896482755982",
   "metadata": {},
   "source": [
    "## Using stack implementes with Python Array"
   ]
  },
  {
   "cell_type": "code",
   "execution_count": 3,
   "id": "86f20db4-28c5-4085-9b08-997bf4678c65",
   "metadata": {},
   "outputs": [
    {
     "name": "stdout",
     "output_type": "stream",
     "text": [
      "[5, '16', 18]\n",
      "last 18 prelast 16\n",
      "[5]\n"
     ]
    }
   ],
   "source": [
    "stack_array = Stack_Array()\n",
    "stack_array.add(5)\n",
    "stack_array.add(\"16\")\n",
    "stack_array.add(18)\n",
    "print(stack_array)\n",
    "\n",
    "a_last = stack_array.get()\n",
    "a_prelast = stack_array.get()\n",
    "print('last', a_last, 'prelast', a_prelast)\n",
    "print(stack_array)"
   ]
  },
  {
   "cell_type": "markdown",
   "id": "c1a415ac-477b-4f44-a580-90800ebe868a",
   "metadata": {},
   "source": [
    "## Using queue implemented with Linked List"
   ]
  },
  {
   "cell_type": "code",
   "execution_count": 7,
   "id": "564d596c-3c1b-4a86-a46c-5f29fee8274b",
   "metadata": {},
   "outputs": [
    {
     "name": "stdout",
     "output_type": "stream",
     "text": [
      "1 2 33\n",
      "first 1 next first 2\n",
      "33\n"
     ]
    }
   ],
   "source": [
    "queue_list = Queue_List()\n",
    "queue_list.add(1)\n",
    "queue_list.add(\"2\")\n",
    "queue_list.add(33)\n",
    "print(queue_list)\n",
    "\n",
    "last = queue_list.get()\n",
    "prelast = queue_list.get()\n",
    "print('first', last, 'next first', prelast)\n",
    "print(queue_list)"
   ]
  },
  {
   "cell_type": "markdown",
   "id": "b87281f4-1c24-4142-b4f3-a65b143b6c4a",
   "metadata": {},
   "source": [
    "## Using queue implemented with Python Array"
   ]
  },
  {
   "cell_type": "code",
   "execution_count": 6,
   "id": "db0c255b-39d0-4616-9cf1-2b2dda921a26",
   "metadata": {},
   "outputs": [
    {
     "name": "stdout",
     "output_type": "stream",
     "text": [
      "[5, '16', 18]\n",
      "first 5 next first 16\n",
      "[18]\n"
     ]
    }
   ],
   "source": [
    "queue_array = Queue_Array()\n",
    "queue_array.add(5)\n",
    "queue_array.add(\"16\")\n",
    "queue_array.add(18)\n",
    "print(queue_array)\n",
    "\n",
    "a_last = queue_array.get()\n",
    "a_prelast = queue_array.get()\n",
    "print('first', a_last, 'next first', a_prelast)\n",
    "print(queue_array)"
   ]
  }
 ],
 "metadata": {
  "kernelspec": {
   "display_name": "Python 3 (ipykernel)",
   "language": "python",
   "name": "python3"
  },
  "language_info": {
   "codemirror_mode": {
    "name": "ipython",
    "version": 3
   },
   "file_extension": ".py",
   "mimetype": "text/x-python",
   "name": "python",
   "nbconvert_exporter": "python",
   "pygments_lexer": "ipython3",
   "version": "3.12.2"
  }
 },
 "nbformat": 4,
 "nbformat_minor": 5
}
