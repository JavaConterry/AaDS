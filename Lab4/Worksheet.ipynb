{
 "cells": [
  {
   "cell_type": "code",
   "execution_count": 1,
   "id": "d751856e-6e3d-4e9a-b65d-1e9af8d3660b",
   "metadata": {},
   "outputs": [],
   "source": [
    "from stack import *\n",
    "from tqueue import *"
   ]
  },
  {
   "cell_type": "markdown",
   "id": "944c2ea4-cb82-4b96-8c60-de6fc2f35e91",
   "metadata": {},
   "source": [
    "# Stack"
   ]
  },
  {
   "cell_type": "markdown",
   "id": "480d5e7d-404c-4a53-9176-7990347681cf",
   "metadata": {},
   "source": [
    "## with Linked List"
   ]
  },
  {
   "cell_type": "code",
   "execution_count": 2,
   "id": "fa0e9a73-15f5-4547-9bb4-3dabe25792a3",
   "metadata": {},
   "outputs": [
    {
     "name": "stdout",
     "output_type": "stream",
     "text": [
      "1 2 33\n",
      "last 33 prelast 2\n",
      "1\n"
     ]
    }
   ],
   "source": [
    "stack_list = Stack_List()\n",
    "stack_list.add(1)\n",
    "stack_list.add(\"2\")\n",
    "stack_list.add(33)\n",
    "print(stack_list)\n",
    "\n",
    "last = stack_list.get()\n",
    "prelast = stack_list.get()\n",
    "print('last', last, 'prelast', prelast)\n",
    "print(stack_list)"
   ]
  },
  {
   "cell_type": "markdown",
   "id": "971ad087-59e9-4c0c-8484-896482755982",
   "metadata": {},
   "source": [
    "## with Python Array"
   ]
  },
  {
   "cell_type": "code",
   "execution_count": 3,
   "id": "86f20db4-28c5-4085-9b08-997bf4678c65",
   "metadata": {},
   "outputs": [
    {
     "name": "stdout",
     "output_type": "stream",
     "text": [
      "[5, '16', 18]\n",
      "last 18 prelast 16\n",
      "[5]\n"
     ]
    }
   ],
   "source": [
    "stack_array = Stack_Array()\n",
    "stack_array.add(5)\n",
    "stack_array.add(\"16\")\n",
    "stack_array.add(18)\n",
    "print(stack_array)\n",
    "\n",
    "a_last = stack_array.get()\n",
    "a_prelast = stack_array.get()\n",
    "print('last', a_last, 'prelast', a_prelast)\n",
    "print(stack_array)"
   ]
  },
  {
   "cell_type": "markdown",
   "id": "fa67dbbe-fb7d-462d-a438-17b07afc1cd0",
   "metadata": {},
   "source": [
    "## Using Python libs stack"
   ]
  },
  {
   "cell_type": "code",
   "execution_count": 18,
   "id": "bab2e72b-be6d-4cae-9ca3-d91f81fc87ec",
   "metadata": {},
   "outputs": [
    {
     "name": "stdout",
     "output_type": "stream",
     "text": [
      "Initial stack: deque(['a', 'b', 'c'])\n",
      "Consiquently getting tasks/values:\n",
      "c\n",
      "b\n",
      "a\n",
      "Result stack: deque([])\n"
     ]
    },
    {
     "ename": "IndexError",
     "evalue": "pop from an empty deque",
     "output_type": "error",
     "traceback": [
      "\u001b[1;31m---------------------------------------------------------------------------\u001b[0m",
      "\u001b[1;31mIndexError\u001b[0m                                Traceback (most recent call last)",
      "Cell \u001b[1;32mIn[18], line 16\u001b[0m\n\u001b[0;32m     13\u001b[0m \u001b[38;5;28mprint\u001b[39m(stack\u001b[38;5;241m.\u001b[39mpop())\n\u001b[0;32m     15\u001b[0m \u001b[38;5;28mprint\u001b[39m(\u001b[38;5;124m'\u001b[39m\u001b[38;5;124mResult stack:\u001b[39m\u001b[38;5;124m'\u001b[39m, stack)\n\u001b[1;32m---> 16\u001b[0m \u001b[38;5;28mprint\u001b[39m(\u001b[38;5;124m'\u001b[39m\u001b[38;5;124mStack after poppint one more:\u001b[39m\u001b[38;5;124m'\u001b[39m, \u001b[43mstack\u001b[49m\u001b[38;5;241;43m.\u001b[39;49m\u001b[43mpop\u001b[49m\u001b[43m(\u001b[49m\u001b[43m)\u001b[49m) \u001b[38;5;66;03m#ERROR :)\u001b[39;00m\n",
      "\u001b[1;31mIndexError\u001b[0m: pop from an empty deque"
     ]
    }
   ],
   "source": [
    "from collections import deque\n",
    "\n",
    "stack = deque()\n",
    "\n",
    "stack.append('a')\n",
    "stack.append('b')\n",
    "stack.append('c')\n",
    "print('Initial stack:', stack)\n",
    "\n",
    "print('Consiquently getting tasks/values:')\n",
    "print(stack.pop())\n",
    "print(stack.pop())\n",
    "print(stack.pop())\n",
    "\n",
    "print('Result stack:', stack)\n",
    "print('Stack after poppint one more:', stack.pop()) #ERROR :)"
   ]
  },
  {
   "cell_type": "markdown",
   "id": "56d057c5-c04a-4138-bc0f-b430c93d91a9",
   "metadata": {},
   "source": [
    "# Queue"
   ]
  },
  {
   "cell_type": "markdown",
   "id": "c1a415ac-477b-4f44-a580-90800ebe868a",
   "metadata": {},
   "source": [
    "## with Linked List"
   ]
  },
  {
   "cell_type": "code",
   "execution_count": 4,
   "id": "564d596c-3c1b-4a86-a46c-5f29fee8274b",
   "metadata": {},
   "outputs": [
    {
     "name": "stdout",
     "output_type": "stream",
     "text": [
      "1 2 33\n",
      "first 1 next first 2\n",
      "33\n"
     ]
    }
   ],
   "source": [
    "queue_list = Queue_List()\n",
    "queue_list.add(1)\n",
    "queue_list.add(\"2\")\n",
    "queue_list.add(33)\n",
    "print(queue_list)\n",
    "\n",
    "last = queue_list.get()\n",
    "prelast = queue_list.get()\n",
    "print('first', last, 'next first', prelast)\n",
    "print(queue_list)"
   ]
  },
  {
   "cell_type": "markdown",
   "id": "b87281f4-1c24-4142-b4f3-a65b143b6c4a",
   "metadata": {},
   "source": [
    "## with Python Array"
   ]
  },
  {
   "cell_type": "code",
   "execution_count": 5,
   "id": "db0c255b-39d0-4616-9cf1-2b2dda921a26",
   "metadata": {},
   "outputs": [
    {
     "name": "stdout",
     "output_type": "stream",
     "text": [
      "[5, '16', 18]\n",
      "first 5 next first 16\n",
      "[18]\n"
     ]
    }
   ],
   "source": [
    "queue_array = Queue_Array()\n",
    "queue_array.add(5)\n",
    "queue_array.add(\"16\")\n",
    "queue_array.add(18)\n",
    "print(queue_array)\n",
    "\n",
    "a_last = queue_array.get()\n",
    "a_prelast = queue_array.get()\n",
    "print('first', a_last, 'next first', a_prelast)\n",
    "print(queue_array)"
   ]
  },
  {
   "cell_type": "markdown",
   "id": "8a0f2abc-dd5e-43d5-af41-3104fb572e4c",
   "metadata": {},
   "source": [
    "## Cycled queue with array"
   ]
  },
  {
   "cell_type": "code",
   "execution_count": 6,
   "id": "9f5972ad-7be3-4bb0-91df-3f3a6cfc27fa",
   "metadata": {},
   "outputs": [
    {
     "name": "stdout",
     "output_type": "stream",
     "text": [
      "['#', '#', '#', '#', '#', '#', '#', '#', '#', '#'] len 10\n",
      "Queue already full\n",
      "Queue already full\n",
      "['#', '#', '#', '#', '#', '#', '#', '#', '#', '#'] len 10\n",
      "first #\n",
      "['#', '#', '#', '#', '#', '#', '#', '#', '#', '#'] len 10\n",
      "[3, '#', '#', '#', '#', '#', '#', '#', '#', '#'] len 10\n",
      "Queue already full\n",
      "[3, '#', '#', '#', '#', '#', '#', '#', '#', '#'] len 10\n",
      "next first #\n",
      "[3, '#', '#', '#', '#', '#', '#', '#', '#', '#'] len 10\n"
     ]
    }
   ],
   "source": [
    "cir_queue = CircledQueueArray()\n",
    "print(cir_queue, 'len', len(cir_queue.set))\n",
    "cir_queue.add(1)\n",
    "cir_queue.add(2)\n",
    "print(cir_queue, 'len', len(cir_queue.set))\n",
    "first = cir_queue.get()\n",
    "print('first', first)\n",
    "print(cir_queue, 'len', len(cir_queue.set))\n",
    "cir_queue.add(3)\n",
    "print(cir_queue, 'len', len(cir_queue.set))\n",
    "cir_queue.add(4)\n",
    "print(cir_queue, 'len', len(cir_queue.set))\n",
    "next_first = cir_queue.get()\n",
    "print('next first', next_first)\n",
    "print(cir_queue, 'len', len(cir_queue.set))\n"
   ]
  },
  {
   "cell_type": "markdown",
   "id": "650d37f7-3724-4f22-8aeb-465eb5c67ca8",
   "metadata": {},
   "source": [
    "## Using Python libs Queue"
   ]
  },
  {
   "cell_type": "code",
   "execution_count": 7,
   "id": "187a1d1a-fded-4b66-94db-43b5d28e109b",
   "metadata": {},
   "outputs": [],
   "source": [
    "import queue"
   ]
  },
  {
   "cell_type": "code",
   "execution_count": 13,
   "id": "b08c7897-fb8e-421d-8b0e-96599d1abad5",
   "metadata": {},
   "outputs": [
    {
     "name": "stdout",
     "output_type": "stream",
     "text": [
      "queue: deque([0, 1, 2, 3, 4, 5, 6, 7, 8, 9, 10, 11, 12, 13, 14, 15, 16, 17, 18, 19, 20, 21, 22, 23, 24, 25, 26, 27, 28, 29]) size: 30\n",
      "Processing task 0\n",
      "Task 0 processed\n",
      "Processing task 1\n",
      "Task 1 processed\n",
      "Processing task 2\n",
      "Task 2 processed\n",
      "Processing task 3\n",
      "Task 3 processed\n",
      "Processing task 4\n",
      "Task 4 processed\n",
      "Processing task 5\n",
      "Task 5 processed\n",
      "Processing task 6\n",
      "Task 6 processed\n",
      "Processing task 7\n",
      "Task 7 processed\n",
      "Processing task 8\n",
      "Task 8 processed\n",
      "Processing task 9\n",
      "Task 9 processed\n",
      "Processing task 10\n",
      "Task 10 processed\n",
      "Processing task 11\n",
      "Task 11 processed\n",
      "Processing task 12\n",
      "Task 12 processed\n",
      "Processing task 13\n",
      "Task 13 processed\n",
      "Processing task 14\n",
      "Task 14 processed\n",
      "Processing task 15\n",
      "Task 15 processed\n",
      "Processing task 16\n",
      "Task 16 processed\n",
      "Processing task 17\n",
      "Task 17 processed\n",
      "Processing task 18\n",
      "Task 18 processed\n",
      "Processing task 19\n",
      "Task 19 processed\n",
      "Processing task 20\n",
      "Task 20 processed\n",
      "Processing task 21\n",
      "Task 21 processed\n",
      "Processing task 22\n",
      "Task 22 processed\n",
      "Processing task 23\n",
      "Task 23 processed\n",
      "Processing task 24\n",
      "Task 24 processed\n",
      "Processing task 25\n",
      "Task 25 processed\n",
      "Processing task 26\n",
      "Task 26 processed\n",
      "Processing task 27\n",
      "Task 27 processed\n",
      "Processing task 28\n",
      "Task 28 processed\n",
      "Processing task 29\n",
      "Task 29 processed\n",
      "0\n",
      "Tasks completed\n"
     ]
    }
   ],
   "source": [
    "def process_queue(q):\n",
    "    while not q.empty():\n",
    "        task = q.get()\n",
    "        print(f'Processing task {task}')\n",
    "        print(f'Task {task} processed')\n",
    "        q.task_done()\n",
    "\n",
    "\n",
    "q = queue.Queue()\n",
    "\n",
    "for n_task in range(30):\n",
    "    q.put(n_task)\n",
    "\n",
    "print('queue:', q.queue, 'size:', q.qsize())\n",
    "\n",
    "process_queue(q)\n",
    "\n",
    "q.join()\n",
    "print(q.qsize())\n",
    "print('Tasks completed')"
   ]
  }
 ],
 "metadata": {
  "kernelspec": {
   "display_name": "Python 3 (ipykernel)",
   "language": "python",
   "name": "python3"
  },
  "language_info": {
   "codemirror_mode": {
    "name": "ipython",
    "version": 3
   },
   "file_extension": ".py",
   "mimetype": "text/x-python",
   "name": "python",
   "nbconvert_exporter": "python",
   "pygments_lexer": "ipython3",
   "version": "3.12.2"
  }
 },
 "nbformat": 4,
 "nbformat_minor": 5
}
