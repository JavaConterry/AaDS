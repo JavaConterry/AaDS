{
 "cells": [
  {
   "cell_type": "code",
   "execution_count": 1,
   "id": "03a15a2f-e358-4775-888d-1fe1ad968e4e",
   "metadata": {},
   "outputs": [],
   "source": [
    "from insertion_sort import insertion_sort\n",
    "from quick_sort import quick_sort\n",
    "import random\n",
    "import pandas as pd\n",
    "import time"
   ]
  },
  {
   "cell_type": "code",
   "execution_count": 2,
   "id": "c91ee446-2dd4-4bd2-a869-a3b86de980f4",
   "metadata": {},
   "outputs": [],
   "source": [
    "def random_array(n):\n",
    "    return [random.randint(0, 100) for _ in range(n)]\n",
    "\n",
    "rand_100, rand_1000, rand_10000 = random_array(100), random_array(1000), random_array(10000)"
   ]
  },
  {
   "cell_type": "markdown",
   "id": "19565d88-1fca-4494-87ea-75ba69628c83",
   "metadata": {},
   "source": [
    "### Результати виконання *сортування вставками* на массивах 100, 1000, 10000.\n",
    "Обрано довільні 10 елементів для виводу"
   ]
  },
  {
   "cell_type": "code",
   "execution_count": 6,
   "id": "bb7f5d94-ec9d-498b-b6af-37a4f4b1617a",
   "metadata": {},
   "outputs": [
    {
     "name": "stdout",
     "output_type": "stream",
     "text": [
      "8      6\n",
      "19    17\n",
      "55    52\n",
      "57    56\n",
      "60    61\n",
      "63    64\n",
      "65    65\n",
      "73    75\n",
      "92    93\n",
      "93    95\n",
      "dtype: int64 \n",
      "Comparisons, swaps, time: 50099612 , 50122312 , 0.0005562305450439453\n",
      "29      2\n",
      "38      3\n",
      "102    10\n",
      "148    14\n",
      "233    23\n",
      "280    28\n",
      "543    54\n",
      "620    62\n",
      "748    74\n",
      "811    82\n",
      "dtype: int64 \n",
      "Comparisons, swaps, time: 50350653 , 50374353 , 0.04010438919067383\n",
      "1538    15\n",
      "2261    22\n",
      "3373    34\n",
      "5121    51\n",
      "6114    61\n",
      "6223    62\n",
      "6363    64\n",
      "8887    89\n",
      "8993    90\n",
      "9534    96\n",
      "dtype: int64 \n",
      "Comparisons, swaps, time: 75139793 , 75173493 , 3.529961347579956\n"
     ]
    }
   ],
   "source": [
    "\n",
    "def calc_ins_sort_100():\n",
    "    start_time = time.time()\n",
    "    insertion_sorted_100, comparisons, swaps = insertion_sort(random_array(100), return_complexcity = True)\n",
    "    end_time = time.time()\n",
    "    elapsed_time = end_time - start_time\n",
    "    return insertion_sorted_100, comparisons, swaps, elapsed_time\n",
    "ins, com, sw, elapsed_time1 = calc_ins_sort_100()\n",
    "ins, com, sw, elapsed_time2 = calc_ins_sort_100()\n",
    "insertion_sorted_100, comparisons, swaps, elapsed_time3 = calc_ins_sort_100()\n",
    "elapsed_time = (elapsed_time1+elapsed_time2+elapsed_time3)/3\n",
    "### Повторено трийчі для усереднення і точності результату\n",
    "print(pd.Series(insertion_sorted_100).sample(10).sort_index(), '\\nComparisons, swaps, time:',comparisons,',', swaps,',', elapsed_time)\n",
    "\n",
    "start_time = time.time()\n",
    "insertion_sorted_1000, comparisons, swaps = insertion_sort(random_array(1000), return_complexcity = True)\n",
    "end_time = time.time()\n",
    "elapsed_time = end_time - start_time\n",
    "print(pd.Series(insertion_sorted_1000).sample(10).sort_index(), '\\nComparisons, swaps, time:',comparisons,',', swaps,',', elapsed_time)\n",
    "\n",
    "start_time = time.time()\n",
    "insertion_sorted_10000, comparisons, swaps = insertion_sort(random_array(10000), return_complexcity = True)\n",
    "end_time = time.time()\n",
    "elapsed_time = end_time - start_time\n",
    "print(pd.Series(insertion_sorted_10000).sample(10).sort_index(), '\\nComparisons, swaps, time:',comparisons,',', swaps,',', elapsed_time)\n"
   ]
  },
  {
   "cell_type": "markdown",
   "id": "cfe8116c-8692-4acb-81c6-efb4aac866cb",
   "metadata": {},
   "source": [
    "**Кількість свапів така значна через реалізування алгоритму зі свапом самого масива, що потребує перепис кожної клітинки після вставленого значення**"
   ]
  },
  {
   "cell_type": "markdown",
   "id": "9812aaf8-aa38-4318-a4e5-8b12259c88bc",
   "metadata": {},
   "source": [
    "### Результати виконання *швидке сортування* на массивах 100, 1000, 10000.\n",
    "Обрано довільні 10 елементів для виводу"
   ]
  },
  {
   "cell_type": "code",
   "execution_count": 4,
   "id": "9a6ebacf-41c6-41e5-9cec-a19494aa8663",
   "metadata": {},
   "outputs": [
    {
     "name": "stdout",
     "output_type": "stream",
     "text": [
      "6      6\n",
      "14    13\n",
      "20    26\n",
      "23    27\n",
      "52    47\n",
      "57    51\n",
      "65    56\n",
      "72    65\n",
      "80    77\n",
      "92    87\n",
      "dtype: int64 \n",
      "Comparisons, swaps, time: 493 , 241 , 0.000997781753540039\n",
      "190    18\n",
      "247    25\n",
      "301    31\n",
      "305    31\n",
      "498    50\n",
      "654    65\n",
      "703    70\n",
      "787    80\n",
      "881    91\n",
      "925    95\n",
      "dtype: int64 \n",
      "Comparisons, swaps, time: 7860 , 3877 , 0.0029916763305664062\n",
      "690      6\n",
      "3053    31\n",
      "3650    37\n",
      "3717    37\n",
      "4753    48\n",
      "7419    75\n",
      "8450    85\n",
      "8640    87\n",
      "9427    95\n",
      "9689    97\n",
      "dtype: int64 \n",
      "Comparisons, swaps, time: 107092 , 53434 , 0.06517243385314941\n"
     ]
    }
   ],
   "source": [
    "start_time = time.time()\n",
    "quick_sorted_100, comparisons, swaps = quick_sort(random_array(100), return_complexcity = True)\n",
    "end_time = time.time()\n",
    "elapsed_time = end_time - start_time\n",
    "print(pd.Series(quick_sorted_100).sample(10).sort_index(), '\\nComparisons, swaps, time:',comparisons,',', swaps,',', elapsed_time)\n",
    "\n",
    "start_time = time.time()\n",
    "quick_sorted_1000, comparisons, swaps = quick_sort(random_array(1000), return_complexcity = True)\n",
    "end_time = time.time()\n",
    "elapsed_time = end_time - start_time\n",
    "print(pd.Series(quick_sorted_1000).sample(10).sort_index(), '\\nComparisons, swaps, time:',comparisons,',', swaps,',', elapsed_time)\n",
    "\n",
    "start_time = time.time()\n",
    "quick_sorted_10000, comparisons, swaps = quick_sort(random_array(10000), return_complexcity = True)\n",
    "end_time = time.time()\n",
    "elapsed_time = end_time - start_time\n",
    "print(pd.Series(quick_sorted_10000).sample(10).sort_index(), '\\nComparisons, swaps, time:',comparisons,',', swaps,',', elapsed_time)"
   ]
  }
 ],
 "metadata": {
  "kernelspec": {
   "display_name": "Python 3 (ipykernel)",
   "language": "python",
   "name": "python3"
  },
  "language_info": {
   "codemirror_mode": {
    "name": "ipython",
    "version": 3
   },
   "file_extension": ".py",
   "mimetype": "text/x-python",
   "name": "python",
   "nbconvert_exporter": "python",
   "pygments_lexer": "ipython3",
   "version": "3.11.5"
  }
 },
 "nbformat": 4,
 "nbformat_minor": 5
}
