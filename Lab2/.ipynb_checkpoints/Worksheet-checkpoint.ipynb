{
 "cells": [
  {
   "cell_type": "code",
   "execution_count": 1,
   "id": "03a15a2f-e358-4775-888d-1fe1ad968e4e",
   "metadata": {},
   "outputs": [],
   "source": [
    "from insertion_sort import insertion_sort\n",
    "from quick_sort import quick_sort\n",
    "import random\n",
    "import pandas as pd\n",
    "import time"
   ]
  },
  {
   "cell_type": "code",
   "execution_count": 2,
   "id": "c91ee446-2dd4-4bd2-a869-a3b86de980f4",
   "metadata": {},
   "outputs": [],
   "source": [
    "def random_array(n):\n",
    "    return [random.randint(0, 100) for _ in range(n)]"
   ]
  },
  {
   "cell_type": "markdown",
   "id": "19565d88-1fca-4494-87ea-75ba69628c83",
   "metadata": {},
   "source": [
    "### Результати виконання *сортування вставками* на массивах 100, 1000, 10000.\n",
    "Обрано довільні 10 елементів для виводу"
   ]
  },
  {
   "cell_type": "code",
   "execution_count": 3,
   "id": "bb7f5d94-ec9d-498b-b6af-37a4f4b1617a",
   "metadata": {},
   "outputs": [
    {
     "name": "stdout",
     "output_type": "stream",
     "text": [
      "[37, 44, 70, 84, 84, 22, 47, 29, 62, 75, 6, 6, 72, 95, 13, 39, 32, 52, 48, 57, 53, 87, 53, 83, 32, 100, 62, 60, 19, 30, 48, 3, 21, 61, 79, 62, 13, 59, 95, 7, 28, 28, 69, 10, 44, 62, 75, 7, 31, 70, 53, 34, 81, 8, 19, 93, 23, 47, 64, 39, 45, 18, 25, 2, 84, 79, 75, 62, 88, 72, 44, 33, 99, 63, 95, 33, 19, 13, 3, 0, 72, 89, 97, 7, 65, 76, 28, 38, 60, 72, 93, 84, 33, 39, 51, 55, 0, 16, 49, 47]\n",
      "sorted array: [0, 0, 2, 3, 3, 6, 6, 7, 7, 7, 8, 10, 13, 13, 13, 16, 18, 19, 19, 19, 21, 22, 23, 25, 28, 28, 28, 29, 30, 31, 32, 32, 33, 33, 33, 34, 37, 38, 39, 39, 39, 44, 44, 44, 45, 47, 47, 47, 48, 48, 49, 51, 52, 53, 53, 53, 55, 57, 59, 60, 60, 61, 62, 62, 62, 62, 62, 63, 64, 65, 69, 70, 70, 72, 72, 72, 72, 75, 75, 75, 76, 79, 79, 81, 83, 84, 84, 84, 84, 87, 88, 89, 93, 93, 95, 95, 95, 97, 99, 100] \n",
      "Comparisons, swaps, time: 9500 , 9900 , 0.0\n",
      "24      3\n",
      "41      5\n",
      "126    15\n",
      "135    16\n",
      "242    26\n",
      "426    43\n",
      "598    59\n",
      "827    84\n",
      "897    91\n",
      "918    92\n",
      "dtype: int64 \n",
      "Comparisons, swaps, time: 252846 , 254246 , 0.045046091079711914\n",
      "621      6\n",
      "1068    10\n",
      "1226    12\n",
      "2517    25\n",
      "2812    28\n",
      "6116    61\n",
      "7794    78\n",
      "8156    82\n",
      "9688    97\n",
      "9781    98\n",
      "dtype: int64 \n",
      "Comparisons, swaps, time: 25061552 , 25072952 , 3.4896326065063477\n"
     ]
    }
   ],
   "source": [
    "def calc_ins_sort_100(array):\n",
    "    start_time = time.time()\n",
    "    insertion_sorted_100, comparisons, swaps = insertion_sort(array, return_complexcity = True)\n",
    "    end_time = time.time()\n",
    "    elapsed_time = end_time - start_time\n",
    "    return insertion_sorted_100, comparisons, swaps, elapsed_time\n",
    "ins, com, sw, elapsed_time1 = calc_ins_sort_100(random_array(100))\n",
    "ins, com, sw, elapsed_time2 = calc_ins_sort_100(random_array(100))\n",
    "ins, com, sw, elapsed_time4 = calc_ins_sort_100(random_array(100))\n",
    "array = random_array(100)\n",
    "print(array)\n",
    "insertion_sorted_100, comparisons, swaps, elapsed_time3 = calc_ins_sort_100(array)\n",
    "elapsed_time = (elapsed_time1+elapsed_time2+elapsed_time3+elapsed_time4)/4\n",
    "### Повторено трийчі для усереднення і точності результату\n",
    "print('sorted array:', array, '\\nComparisons, swaps, time:',comparisons,',', swaps,',', elapsed_time)\n",
    "\n",
    "start_time = time.time()\n",
    "insertion_sorted_1000, comparisons, swaps = insertion_sort(random_array(1000), return_complexcity = True)\n",
    "end_time = time.time()\n",
    "elapsed_time = end_time - start_time\n",
    "print(pd.Series(insertion_sorted_1000).sample(10).sort_index(), '\\nComparisons, swaps, time:',comparisons,',', swaps,',', elapsed_time)\n",
    "\n",
    "start_time = time.time()\n",
    "insertion_sorted_10000, comparisons, swaps = insertion_sort(random_array(10000), return_complexcity = True)\n",
    "end_time = time.time()\n",
    "elapsed_time = end_time - start_time\n",
    "print(pd.Series(insertion_sorted_10000).sample(10).sort_index(), '\\nComparisons, swaps, time:',comparisons,',', swaps,',', elapsed_time)\n"
   ]
  },
  {
   "cell_type": "markdown",
   "id": "cfe8116c-8692-4acb-81c6-efb4aac866cb",
   "metadata": {},
   "source": [
    "**Кількість свапів така значна через реалізування алгоритму зі свапом самого масива, що потребує перепис кожної клітинки після вставленого значення**"
   ]
  },
  {
   "cell_type": "markdown",
   "id": "9812aaf8-aa38-4318-a4e5-8b12259c88bc",
   "metadata": {},
   "source": [
    "### Результати виконання *швидке сортування* на массивах 100, 1000, 10000.\n",
    "Обрано довільні 10 елементів для виводу"
   ]
  },
  {
   "cell_type": "code",
   "execution_count": 4,
   "id": "9a6ebacf-41c6-41e5-9cec-a19494aa8663",
   "metadata": {},
   "outputs": [
    {
     "name": "stdout",
     "output_type": "stream",
     "text": [
      "array: [74, 78, 17, 91, 89, 16, 49, 53, 53, 3, 78, 10, 81, 45, 46, 79, 81, 2, 30, 31, 86, 45, 29, 61, 62, 74, 18, 78, 88, 97, 96, 95, 58, 34, 80, 79, 26, 79, 28, 45, 97, 3, 52, 10, 45, 13, 38, 2, 86, 21, 78, 22, 97, 67, 90, 92, 97, 23, 14, 68, 50, 16, 99, 69, 95, 40, 11, 67, 61, 90, 53, 53, 92, 39, 22, 96, 63, 26, 22, 24, 79, 38, 50, 41, 94, 19, 3, 100, 5, 63, 72, 28, 72, 40, 93, 40, 98, 25, 51, 65]\n",
      "sorted array: [2, 2, 3, 3, 3, 5, 10, 10, 11, 13, 14, 16, 16, 17, 18, 19, 21, 22, 22, 22, 23, 24, 25, 26, 26, 28, 28, 29, 30, 31, 34, 38, 38, 39, 40, 40, 40, 41, 45, 45, 45, 45, 46, 49, 50, 50, 51, 52, 53, 53, 53, 53, 58, 61, 61, 62, 63, 63, 65, 67, 67, 68, 69, 72, 72, 74, 74, 78, 78, 78, 78, 79, 79, 79, 79, 80, 81, 81, 86, 86, 88, 89, 90, 90, 91, 92, 92, 93, 94, 95, 95, 96, 96, 97, 97, 97, 97, 98, 99, 100]\n",
      "0      2\n",
      "16    21\n",
      "35    40\n",
      "43    49\n",
      "50    53\n",
      "51    53\n",
      "52    58\n",
      "53    61\n",
      "83    90\n",
      "94    97\n",
      "dtype: int64 \n",
      "Comparisons, swaps, time: 574 , 274 , 0.0009949207305908203\n",
      "32      3\n",
      "44      4\n",
      "216    22\n",
      "222    23\n",
      "244    25\n",
      "283    27\n",
      "481    48\n",
      "482    48\n",
      "591    58\n",
      "792    79\n",
      "dtype: int64 \n",
      "Comparisons, swaps, time: 8457 , 4192 , 0.0029926300048828125\n",
      "922      9\n",
      "2854    29\n",
      "3150    32\n",
      "4400    44\n",
      "5214    53\n",
      "6545    66\n",
      "7160    72\n",
      "7485    75\n",
      "8309    84\n",
      "8887    90\n",
      "dtype: int64 \n",
      "Comparisons, swaps, time: 97947 , 48884 , 0.06281614303588867\n"
     ]
    }
   ],
   "source": [
    "start_time = time.time()\n",
    "array = random_array(100)\n",
    "print('array:', array)\n",
    "quick_sorted_100, comparisons, swaps = quick_sort(array, return_complexcity = True)\n",
    "print('sorted array:', array)\n",
    "end_time = time.time()\n",
    "elapsed_time = end_time - start_time\n",
    "print(pd.Series(quick_sorted_100).sample(10).sort_index(), '\\nComparisons, swaps, time:',comparisons,',', swaps,',', elapsed_time)\n",
    "\n",
    "start_time = time.time()\n",
    "quick_sorted_1000, comparisons, swaps = quick_sort(random_array(1000), return_complexcity = True)\n",
    "end_time = time.time()\n",
    "elapsed_time = end_time - start_time\n",
    "print(pd.Series(quick_sorted_1000).sample(10).sort_index(), '\\nComparisons, swaps, time:',comparisons,',', swaps,',', elapsed_time)\n",
    "\n",
    "start_time = time.time()\n",
    "quick_sorted_10000, comparisons, swaps = quick_sort(random_array(10000), return_complexcity = True)\n",
    "end_time = time.time()\n",
    "elapsed_time = end_time - start_time\n",
    "print(pd.Series(quick_sorted_10000).sample(10).sort_index(), '\\nComparisons, swaps, time:',comparisons,',', swaps,',', elapsed_time)"
   ]
  }
 ],
 "metadata": {
  "kernelspec": {
   "display_name": "Python 3 (ipykernel)",
   "language": "python",
   "name": "python3"
  },
  "language_info": {
   "codemirror_mode": {
    "name": "ipython",
    "version": 3
   },
   "file_extension": ".py",
   "mimetype": "text/x-python",
   "name": "python",
   "nbconvert_exporter": "python",
   "pygments_lexer": "ipython3",
   "version": "3.11.5"
  }
 },
 "nbformat": 4,
 "nbformat_minor": 5
}
